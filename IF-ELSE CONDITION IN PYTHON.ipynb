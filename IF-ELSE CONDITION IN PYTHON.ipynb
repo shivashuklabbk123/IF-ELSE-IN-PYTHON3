{
 "cells": [
  {
   "cell_type": "markdown",
   "id": "407c7edc",
   "metadata": {},
   "source": [
    "# If-Else with Python"
   ]
  },
  {
   "cell_type": "code",
   "execution_count": 1,
   "id": "c84eb575",
   "metadata": {},
   "outputs": [],
   "source": [
    "age=-25"
   ]
  },
  {
   "cell_type": "code",
   "execution_count": 2,
   "id": "87325c9a",
   "metadata": {},
   "outputs": [
    {
     "data": {
      "text/plain": [
       "False"
      ]
     },
     "execution_count": 2,
     "metadata": {},
     "output_type": "execute_result"
    }
   ],
   "source": [
    "age>18"
   ]
  },
  {
   "cell_type": "code",
   "execution_count": 3,
   "id": "b1326f16",
   "metadata": {},
   "outputs": [
    {
     "name": "stdout",
     "output_type": "stream",
     "text": [
      "Please enter the valid age!\n"
     ]
    }
   ],
   "source": [
    "if(age<0):\n",
    "    print(\"Please enter the valid age!\")\n",
    "elif(age>=18 or age<=120):\n",
    "    print('You can elgible for vote')\n",
    "else:\n",
    "    print(\"You can vote!\")"
   ]
  },
  {
   "cell_type": "code",
   "execution_count": 7,
   "id": "6b5de1d5",
   "metadata": {},
   "outputs": [],
   "source": [
    "drinks=True\n",
    "Maggie=False\n",
    "Coffie=True\n",
    "Water=False\n",
    "Burger=True"
   ]
  },
  {
   "cell_type": "code",
   "execution_count": 8,
   "id": "721911f3",
   "metadata": {},
   "outputs": [
    {
     "name": "stdout",
     "output_type": "stream",
     "text": [
      "Enjoy your drinks!!\n",
      "Enjoy your drinks!!\n",
      "Enjoy your drinks!!\n",
      "************************************************\n",
      "You have ordered 3 items!!\n",
      "************************************************\n"
     ]
    }
   ],
   "source": [
    "orders=0\n",
    "if(drinks==True):\n",
    "    print(\"Enjoy your drinks!!\")\n",
    "    orders+=1\n",
    "if(Maggie==True):\n",
    "    print(\"Enjoy your drinks!!\")\n",
    "    orders+=1\n",
    "if(Coffie==True):\n",
    "    print(\"Enjoy your drinks!!\")\n",
    "    orders+=1\n",
    "if(Water==True):\n",
    "    print(\"Enjoy your drinks!!\")\n",
    "    orders+=1\n",
    "if(Burger==True):\n",
    "    print(\"Enjoy your drinks!!\")\n",
    "    orders+=1   \n",
    "    \n",
    "    print(\"************************************************\")\n",
    "    print(\"You have ordered\", orders, \"items!!\")\n",
    "    print(\"************************************************\")\n",
    "    "
   ]
  },
  {
   "cell_type": "code",
   "execution_count": null,
   "id": "8097e642",
   "metadata": {},
   "outputs": [],
   "source": []
  }
 ],
 "metadata": {
  "kernelspec": {
   "display_name": "Python 3",
   "language": "python",
   "name": "python3"
  },
  "language_info": {
   "codemirror_mode": {
    "name": "ipython",
    "version": 3
   },
   "file_extension": ".py",
   "mimetype": "text/x-python",
   "name": "python",
   "nbconvert_exporter": "python",
   "pygments_lexer": "ipython3",
   "version": "3.8.8"
  }
 },
 "nbformat": 4,
 "nbformat_minor": 5
}
